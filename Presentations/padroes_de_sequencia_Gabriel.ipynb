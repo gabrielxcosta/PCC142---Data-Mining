{
  "nbformat": 4,
  "nbformat_minor": 0,
  "metadata": {
    "colab": {
      "provenance": [],
      "collapsed_sections": [
        "3w5_1FlUnNds",
        "yySWN0A1vYSN",
        "e79cn862wYtV"
      ]
    },
    "kernelspec": {
      "name": "python3",
      "display_name": "Python 3"
    },
    "language_info": {
      "name": "python"
    }
  },
  "cells": [
    {
      "cell_type": "code",
      "source": [
        "!pip install prefixspan"
      ],
      "metadata": {
        "colab": {
          "base_uri": "https://localhost:8080/"
        },
        "id": "iD8fKUYlrY8H",
        "outputId": "5e7bf18f-a736-40eb-bf1b-892e7072847d"
      },
      "execution_count": 37,
      "outputs": [
        {
          "output_type": "stream",
          "name": "stdout",
          "text": [
            "Requirement already satisfied: prefixspan in /usr/local/lib/python3.11/dist-packages (0.5.2)\n",
            "Requirement already satisfied: docopt>=0.6.2 in /usr/local/lib/python3.11/dist-packages (from prefixspan) (0.6.2)\n",
            "Requirement already satisfied: extratools>=0.8.1 in /usr/local/lib/python3.11/dist-packages (from prefixspan) (0.8.2.1)\n",
            "Requirement already satisfied: sortedcontainers>=1.5.10 in /usr/local/lib/python3.11/dist-packages (from extratools>=0.8.1->prefixspan) (2.4.0)\n",
            "Requirement already satisfied: toolz>=0.9.0 in /usr/local/lib/python3.11/dist-packages (from extratools>=0.8.1->prefixspan) (0.12.1)\n"
          ]
        }
      ]
    },
    {
      "cell_type": "code",
      "source": [
        "from prefixspan import PrefixSpan\n",
        "from collections import defaultdict\n",
        "from datetime import datetime"
      ],
      "metadata": {
        "id": "6f4n7eN7uXK6"
      },
      "execution_count": 38,
      "outputs": []
    },
    {
      "cell_type": "markdown",
      "source": [
        "# Padrões de sequência - Exercício\n",
        "| IdCliente | Itens   | Data  |\n",
        "| --------- | ------- | ----- |\n",
        "| 1         | A, B    | 10/09 |\n",
        "| 2         | B       | 11/09 |\n",
        "| 1         | D, E    | 12/09 |\n",
        "| 3         | A, D, E | 13/09 |\n",
        "| 1         | A, B, C | 14/09 |\n",
        "| 2         | C, D, E | 15/09 |\n"
      ],
      "metadata": {
        "id": "3w5_1FlUnNds"
      }
    },
    {
      "cell_type": "code",
      "source": [
        "data = [\n",
        "    (1, ['A', 'B'], '10/09'),\n",
        "    (2, ['B'], '11/09'),\n",
        "    (1, ['D', 'E'], '12/09'),\n",
        "    (3, ['A', 'D', 'E'], '13/09'),\n",
        "    (1, ['A', 'B', 'C'], '14/09'),\n",
        "    (2, ['C', 'D', 'E'], '15/09'),\n",
        "]"
      ],
      "metadata": {
        "id": "ouwJETkBvWQt"
      },
      "execution_count": 39,
      "outputs": []
    },
    {
      "cell_type": "markdown",
      "source": [
        "## Usando o PrefixSpan"
      ],
      "metadata": {
        "id": "yySWN0A1vYSN"
      }
    },
    {
      "cell_type": "code",
      "source": [
        "# Função para converter a data no formato 'dia/mês' para um objeto datetime (ano fixo não importa aqui)\n",
        "def parse_date(d):\n",
        "    return datetime.strptime(d, '%d/%m')\n",
        "\n",
        "# Cria um dicionário onde a chave é o cliente e o valor é uma lista (sequência) dos itens consumidos\n",
        "cliente_seq = defaultdict(list)\n",
        "\n",
        "# Ordena os dados primeiro pelo cliente e depois pela data (para garantir a ordem temporal das transações)\n",
        "for cliente, itens, data_str in sorted(data, key=lambda x: (x[0], parse_date(x[2]))):\n",
        "    # Para cada item na lista de itens do evento, adiciona o item individualmente na sequência do cliente\n",
        "    # Isso transforma cada itemset em eventos únicos, respeitando a ordem temporal\n",
        "    for item in itens:\n",
        "        cliente_seq[cliente].append(item)\n",
        "\n",
        "# Cria uma lista com as sequências de cada cliente, no formato esperado pelo PrefixSpan\n",
        "sequences = list(cliente_seq.values())\n",
        "\n",
        "# Instancia o algoritmo PrefixSpan com as sequências\n",
        "ps = PrefixSpan(sequences)\n",
        "\n",
        "# Executa a mineração de sequências frequentes com suporte mínimo igual a 2 (ou seja, presente em pelo menos 2 dos 3 clientes)\n",
        "frequent_seqs = ps.frequent(minsup=2)\n",
        "\n",
        "# Imprime os padrões encontrados, ordenando primeiro pelo suporte decrescente e depois pela sequência\n",
        "print(\"🔹 Padrões de sequência frequentes (PrefixSpan) com eventos únicos:\")\n",
        "for support, sequence in sorted(frequent_seqs, key=lambda x: (-x[0], x[1])):\n",
        "    print(f\"Sequência: {sequence}, Suporte: {support}\")"
      ],
      "metadata": {
        "colab": {
          "base_uri": "https://localhost:8080/"
        },
        "id": "mRW_fIURu2nJ",
        "outputId": "c1bd4e51-b232-42b4-e67d-750dd45bdf8d"
      },
      "execution_count": 40,
      "outputs": [
        {
          "output_type": "stream",
          "name": "stdout",
          "text": [
            "🔹 Padrões de sequência frequentes (PrefixSpan) com eventos únicos:\n",
            "Sequência: ['D'], Suporte: 3\n",
            "Sequência: ['D', 'E'], Suporte: 3\n",
            "Sequência: ['E'], Suporte: 3\n",
            "Sequência: ['A'], Suporte: 2\n",
            "Sequência: ['A', 'D'], Suporte: 2\n",
            "Sequência: ['A', 'D', 'E'], Suporte: 2\n",
            "Sequência: ['A', 'E'], Suporte: 2\n",
            "Sequência: ['B'], Suporte: 2\n",
            "Sequência: ['B', 'C'], Suporte: 2\n",
            "Sequência: ['B', 'D'], Suporte: 2\n",
            "Sequência: ['B', 'D', 'E'], Suporte: 2\n",
            "Sequência: ['B', 'E'], Suporte: 2\n",
            "Sequência: ['C'], Suporte: 2\n"
          ]
        }
      ]
    },
    {
      "cell_type": "markdown",
      "source": [
        "## Usando o AprioriAll"
      ],
      "metadata": {
        "id": "e79cn862wYtV"
      }
    },
    {
      "cell_type": "code",
      "source": [
        "def apriori_all(data, min_support):\n",
        "    # Fase 1: Ordenação\n",
        "    sorted_data = sorted(data, key=lambda x: (x[0], x[2]))\n",
        "\n",
        "    # Fase 2: Criar sequências de consumidores\n",
        "    customer_sequences = defaultdict(list)\n",
        "    for customer, items, date in sorted_data:\n",
        "        customer_sequences[customer].append(set(items))\n",
        "\n",
        "    # Converter para lista de sequências\n",
        "    sequences = [list(seq) for seq in customer_sequences.values()]\n",
        "    total_customers = len(sequences)\n",
        "\n",
        "    # Fase 3: Encontrar itemsets frequentes\n",
        "    def find_frequent_itemsets(sequences, min_support):\n",
        "        itemsets = defaultdict(int)\n",
        "\n",
        "        # Contar todos os itemsets de tamanho 1\n",
        "        for seq in sequences:\n",
        "            for itemset in seq:\n",
        "                for item in itemset:\n",
        "                    itemsets[frozenset([item])] += 1\n",
        "\n",
        "        # Gerar itemsets candidatos de tamanho > 1\n",
        "        k = 2\n",
        "        frequent_itemsets = {}\n",
        "        current_frequent = {itemset: count for itemset, count in itemsets.items()\n",
        "                           if count / total_customers >= min_support}\n",
        "\n",
        "        while current_frequent:\n",
        "            frequent_itemsets[k-1] = current_frequent\n",
        "            candidates = set()\n",
        "\n",
        "            # Gerar candidatos combinando itemsets frequentes de tamanho k-1\n",
        "            itemset_list = list(current_frequent.keys())\n",
        "            for i in range(len(itemset_list)):\n",
        "                for j in range(i+1, len(itemset_list)):\n",
        "                    new_candidate = itemset_list[i].union(itemset_list[j])\n",
        "                    if len(new_candidate) == k:\n",
        "                        candidates.add(new_candidate)\n",
        "\n",
        "            # Contar suporte dos candidatos\n",
        "            candidate_counts = defaultdict(int)\n",
        "            for seq in sequences:\n",
        "                for itemset in seq:\n",
        "                    for candidate in candidates:\n",
        "                        if candidate.issubset(itemset):\n",
        "                            candidate_counts[candidate] += 1\n",
        "\n",
        "            # Filtrar pelos que atendem ao suporte mínimo\n",
        "            current_frequent = {itemset: count for itemset, count in candidate_counts.items()\n",
        "                              if count / total_customers >= min_support}\n",
        "            k += 1\n",
        "\n",
        "        return frequent_itemsets\n",
        "\n",
        "    frequent_itemsets = find_frequent_itemsets(sequences, min_support)\n",
        "\n",
        "    # Mapear itemsets frequentes para IDs\n",
        "    itemset_to_id = {}\n",
        "    id_to_itemset = {}\n",
        "    id_counter = 1\n",
        "    for k in frequent_itemsets:\n",
        "        for itemset in frequent_itemsets[k]:\n",
        "            itemset_to_id[itemset] = id_counter\n",
        "            id_to_itemset[id_counter] = itemset\n",
        "            id_counter += 1\n",
        "\n",
        "    # Fase 4: Transformação - substituir itemsets pelos IDs mapeados\n",
        "    transformed_sequences = []\n",
        "    for seq in sequences:\n",
        "        transformed_seq = []\n",
        "        for itemset in seq:\n",
        "            transformed_itemset = set()\n",
        "            for fi in itemset_to_id:\n",
        "                if fi.issubset(itemset):\n",
        "                    transformed_itemset.add(itemset_to_id[fi])\n",
        "            if transformed_itemset:\n",
        "                transformed_seq.append(transformed_itemset)\n",
        "        transformed_sequences.append(transformed_seq)\n",
        "\n",
        "    # Fase 5: Mineração de sequências frequentes\n",
        "    def find_frequent_sequences(transformed_sequences, min_support):\n",
        "        # Inicializar com 1-sequências (itemsets frequentes)\n",
        "        F = {}\n",
        "        F[1] = defaultdict(int)\n",
        "\n",
        "        for seq in transformed_sequences:\n",
        "            for itemset in seq:\n",
        "                for item in itemset:\n",
        "                    F[1][(item,)] += 1\n",
        "\n",
        "        F[1] = {seq: count for seq, count in F[1].items()\n",
        "                if count / total_customers >= min_support}\n",
        "\n",
        "        k = 2\n",
        "        while k-1 in F and F[k-1]:\n",
        "            # Gerar candidatos\n",
        "            candidates = set()\n",
        "            for seq1 in F[k-1]:\n",
        "                for seq2 in F[k-1]:\n",
        "                    # Junção: os primeiros k-2 elementos devem ser iguais\n",
        "                    if k == 2 or seq1[:-1] == seq2[:-1]:\n",
        "                        # Caso 1: adicionar último elemento de seq2 como novo itemset\n",
        "                        new_seq = seq1 + (seq2[-1],)\n",
        "                        candidates.add(new_seq)\n",
        "                        # Caso 2: combinar último itemset (se possível)\n",
        "                        if k > 2 and seq1[-2] == seq2[-2]:\n",
        "                            combined_last = (seq1[-1], seq2[-1])\n",
        "                            new_seq = seq1[:-1] + combined_last\n",
        "                            candidates.add(new_seq)\n",
        "\n",
        "            # Poda: verificar se todas as subsequências de tamanho k-1 são frequentes\n",
        "            pruned_candidates = set()\n",
        "            for candidate in candidates:\n",
        "                valid = True\n",
        "                # Gerar todas as subsequências de tamanho k-1\n",
        "                for i in range(len(candidate)):\n",
        "                    if k == 2:\n",
        "                        subseq = (candidate[i],)\n",
        "                    else:\n",
        "                        subseq = candidate[:i] + candidate[i+1:]\n",
        "                    if subseq not in F[k-1]:\n",
        "                        valid = False\n",
        "                        break\n",
        "                if valid:\n",
        "                    pruned_candidates.add(candidate)\n",
        "\n",
        "            # Contar suporte dos candidatos podados\n",
        "            candidate_counts = defaultdict(int)\n",
        "            for candidate in pruned_candidates:  # Corrigido: usar a variável definida\n",
        "                for seq in transformed_sequences:\n",
        "                    # Verificar se a sequência contém o candidato (em ordem)\n",
        "                    i = 0\n",
        "                    for itemset in seq:\n",
        "                        if i < len(candidate) and candidate[i] in itemset:\n",
        "                            i += 1\n",
        "                        if i == len(candidate):\n",
        "                            break\n",
        "                    if i == len(candidate):\n",
        "                        candidate_counts[candidate] += 1\n",
        "\n",
        "            F[k] = {seq: count for seq, count in candidate_counts.items()\n",
        "                    if count / total_customers >= min_support}\n",
        "            k += 1\n",
        "\n",
        "        return F\n",
        "\n",
        "    frequent_sequences = find_frequent_sequences(transformed_sequences, min_support)\n",
        "\n",
        "    # Converter IDs de volta para itemsets\n",
        "    final_sequences = {}\n",
        "    for k in frequent_sequences:\n",
        "        final_sequences[k] = {}\n",
        "        for seq, count in frequent_sequences[k].items():\n",
        "            decoded_seq = []\n",
        "            for item in seq:\n",
        "                decoded_seq.append(id_to_itemset[item])\n",
        "            final_sequences[k][tuple(decoded_seq)] = count\n",
        "\n",
        "    return final_sequences\n",
        "\n",
        "# Executar o algoritmo com suporte mínimo de 50% (0.5)\n",
        "result = apriori_all(data, min_support=0.5)\n",
        "\n",
        "# Exibir os resultados\n",
        "for k in result:\n",
        "    print(f\"\\nSequências frequentes de tamanho {k}:\")\n",
        "    for seq, count in result[k].items():\n",
        "        print(f\"{seq}: suporte = {count}/3 = {count/3:.2f}\")"
      ],
      "metadata": {
        "colab": {
          "base_uri": "https://localhost:8080/"
        },
        "id": "QgLlENi8wYcT",
        "outputId": "a03b1bba-d960-47af-cdd6-82298552f69c"
      },
      "execution_count": 41,
      "outputs": [
        {
          "output_type": "stream",
          "name": "stdout",
          "text": [
            "\n",
            "Sequências frequentes de tamanho 1:\n",
            "(frozenset({'A'}),): suporte = 3/3 = 1.00\n",
            "(frozenset({'B'}),): suporte = 3/3 = 1.00\n",
            "(frozenset({'A', 'B'}),): suporte = 2/3 = 0.67\n",
            "(frozenset({'E'}),): suporte = 3/3 = 1.00\n",
            "(frozenset({'D'}),): suporte = 3/3 = 1.00\n",
            "(frozenset({'E', 'D'}),): suporte = 3/3 = 1.00\n",
            "(frozenset({'C'}),): suporte = 2/3 = 0.67\n",
            "\n",
            "Sequências frequentes de tamanho 2:\n",
            "(frozenset({'B'}), frozenset({'C'})): suporte = 2/3 = 0.67\n",
            "(frozenset({'B'}), frozenset({'D'})): suporte = 2/3 = 0.67\n",
            "(frozenset({'B'}), frozenset({'E', 'D'})): suporte = 2/3 = 0.67\n",
            "(frozenset({'B'}), frozenset({'E'})): suporte = 2/3 = 0.67\n",
            "\n",
            "Sequências frequentes de tamanho 3:\n"
          ]
        }
      ]
    }
  ]
}