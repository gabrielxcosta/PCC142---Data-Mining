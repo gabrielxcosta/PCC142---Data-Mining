{
  "nbformat": 4,
  "nbformat_minor": 0,
  "metadata": {
    "colab": {
      "provenance": []
    },
    "kernelspec": {
      "name": "python3",
      "display_name": "Python 3"
    },
    "language_info": {
      "name": "python"
    }
  },
  "cells": [
    {
      "cell_type": "markdown",
      "source": [
        "# PCC142 - Mineração de Dados\n",
        "## Estimando o desempenho de classificadores\n",
        "### Aluno: Gabriel F. Costa\n",
        "\n",
        "Considerando o conjunto de dados de treinamento do desafio \"Spaceship Titanic\" do Kaggle (https://www.kaggle.com/competitions/spaceship-titanic) e usando Jupyter Notebook ou Google Colab, faça:\n",
        "\n",
        "* Usando duas técnicas de indução de classificadores, obtenha classificadores e estime o seu desempenho usando validação cruzada com 10 folds.\n",
        "\n",
        "Use a técnica de Grid Search para encontrar os melhores valores de parâmetros para as técnicas utilizadas.\n",
        "\n",
        "Como resultado final, para cada classificador, apresente os melhores valores de parâmetros, a média e o desvio padrão das acurácias.\n",
        "\n",
        "Faça o upload do arquivo Python Notebook da implementação acima."
      ],
      "metadata": {
        "id": "apgYGmy8qhsB"
      }
    },
    {
      "cell_type": "markdown",
      "source": [
        "# Bibliotecas"
      ],
      "metadata": {
        "id": "xK2YrjGArXc_"
      }
    },
    {
      "cell_type": "code",
      "execution_count": null,
      "metadata": {
        "id": "v-MV5SGDouGk"
      },
      "outputs": [],
      "source": [
        "import pandas as pd\n",
        "import numpy as np\n",
        "import zipfile\n",
        "import seaborn as sns\n",
        "import time\n",
        "import matplotlib.pyplot as plt\n",
        "from sklearn.model_selection import GridSearchCV, StratifiedKFold, cross_val_score\n",
        "from sklearn.pipeline import Pipeline\n",
        "from sklearn.impute import SimpleImputer\n",
        "from sklearn.preprocessing import StandardScaler, OneHotEncoder\n",
        "from sklearn.compose import ColumnTransformer\n",
        "from sklearn.ensemble import RandomForestClassifier\n",
        "from sklearn.svm import SVC\n",
        "from sklearn.metrics import accuracy_score"
      ]
    },
    {
      "cell_type": "markdown",
      "source": [
        "# Obtendo os dados"
      ],
      "metadata": {
        "id": "NFidGqhmrZtA"
      }
    },
    {
      "cell_type": "code",
      "source": [
        "!git clone https://github.com/gabrielxcosta/PCC142---Data-Mining.git"
      ],
      "metadata": {
        "colab": {
          "base_uri": "https://localhost:8080/"
        },
        "id": "UMeqUOr1rScP",
        "outputId": "082d09eb-e73c-492d-a796-b808abc11d46"
      },
      "execution_count": null,
      "outputs": [
        {
          "output_type": "stream",
          "name": "stdout",
          "text": [
            "fatal: destination path 'PCC142---Data-Mining' already exists and is not an empty directory.\n"
          ]
        }
      ]
    },
    {
      "cell_type": "markdown",
      "source": [
        "# Classe p/ resolução do problema"
      ],
      "metadata": {
        "id": "vxeChal3ANc7"
      }
    },
    {
      "cell_type": "code",
      "source": [
        "class TitanicClassifierEvaluator:\n",
        "    \"\"\"\n",
        "    Class to load, preprocess, train, evaluate, and visualize classifiers\n",
        "    for the Spaceship Titanic Kaggle dataset.\n",
        "\n",
        "    This class handles:\n",
        "    - Loading train, test, and sample submission data from a zip archive.\n",
        "    - Preparing feature matrices and target vectors.\n",
        "    - Creating preprocessing pipelines for numeric and categorical features.\n",
        "    - Performing hyperparameter tuning with GridSearchCV.\n",
        "    - Evaluating classifiers using stratified k-fold cross-validation.\n",
        "    - Storing and summarizing results.\n",
        "    - Plotting boxplots of cross-validation accuracy scores.\n",
        "\n",
        "    Attributes:\n",
        "        zip_path (str): Path to the zip file containing the dataset CSV files.\n",
        "        df_train (pd.DataFrame): Training dataset.\n",
        "        df_test (pd.DataFrame): Test dataset.\n",
        "        df_submission (pd.DataFrame): Sample submission data.\n",
        "        X (pd.DataFrame): Feature matrix for training.\n",
        "        y (pd.Series): Target vector for training.\n",
        "        num_cols (list): List of numeric feature column names.\n",
        "        cat_cols (list): List of categorical feature column names.\n",
        "        preprocessor (ColumnTransformer): Combined preprocessing pipeline.\n",
        "        cv (StratifiedKFold): Stratified k-fold cross-validator.\n",
        "        results (dict): Stores evaluation metrics and best estimators per classifier.\n",
        "\n",
        "    Methods:\n",
        "        load_data():\n",
        "            Loads train.csv, test.csv, and sample_submission.csv from the zip archive,\n",
        "            prepares feature matrix X and target vector y for training.\n",
        "\n",
        "        prepare_pipeline():\n",
        "            Defines preprocessing pipelines for numeric and categorical features,\n",
        "            including imputation and scaling/encoding.\n",
        "\n",
        "        evaluate_classifier(name, classifier, param_grid):\n",
        "            Performs hyperparameter tuning and cross-validation for a classifier,\n",
        "            stores the best parameters and accuracy statistics.\n",
        "\n",
        "        plot_boxplot_results():\n",
        "            Creates a boxplot visualizing the distribution of accuracy scores\n",
        "            from cross-validation for all evaluated classifiers.\n",
        "    \"\"\"\n",
        "\n",
        "    def __init__(self, zip_path):\n",
        "        self.zip_path = zip_path\n",
        "        self.df_train = None\n",
        "        self.df_test = None\n",
        "        self.df_submission = None\n",
        "        self.X = None\n",
        "        self.y = None\n",
        "        self.num_cols = []\n",
        "        self.cat_cols = []\n",
        "        self.preprocessor = None\n",
        "        # Stratified K-Fold cross-validation with 10 splits and fixed random seed\n",
        "        self.cv = StratifiedKFold(n_splits=10, shuffle=True, random_state=42)\n",
        "        self.results = {}\n",
        "\n",
        "    def load_data(self):\n",
        "        \"\"\"\n",
        "        Loads train.csv, test.csv, and sample_submission.csv from the zip archive.\n",
        "        Extracts features (X) and target variable (y) from the training data,\n",
        "        dropping non-informative or identifier columns.\n",
        "        \"\"\"\n",
        "        with zipfile.ZipFile(self.zip_path, 'r') as zip_ref:\n",
        "            # Read train data into DataFrame\n",
        "            with zip_ref.open('train.csv') as train_file:\n",
        "                self.df_train = pd.read_csv(train_file)\n",
        "            # Read test data into DataFrame\n",
        "            with zip_ref.open('test.csv') as test_file:\n",
        "                self.df_test = pd.read_csv(test_file)\n",
        "            # Read sample submission into DataFrame\n",
        "            with zip_ref.open('sample_submission.csv') as sub_file:\n",
        "                self.df_submission = pd.read_csv(sub_file)\n",
        "\n",
        "        df = self.df_train.copy()\n",
        "        # Drop target and identifier columns from features\n",
        "        self.X = df.drop(columns=['Transported', 'PassengerId', 'Name', 'Cabin'])\n",
        "        # Target variable\n",
        "        self.y = df['Transported']\n",
        "\n",
        "    def prepare_pipeline(self):\n",
        "        \"\"\"\n",
        "        Identifies numeric and categorical columns in the feature matrix X.\n",
        "        Creates separate preprocessing pipelines for numeric (imputation + scaling)\n",
        "        and categorical (imputation + one-hot encoding) data.\n",
        "        Combines these into a ColumnTransformer to be applied before classification.\n",
        "        \"\"\"\n",
        "        # Select numeric columns (int and float)\n",
        "        self.num_cols = self.X.select_dtypes(include=['float64', 'int64']).columns.tolist()\n",
        "        # Select categorical columns (object and bool)\n",
        "        self.cat_cols = self.X.select_dtypes(include=['object', 'bool']).columns.tolist()\n",
        "\n",
        "        # Numeric pipeline: fill missing with median, then standardize features\n",
        "        num_pipeline = Pipeline([\n",
        "            ('imputer', SimpleImputer(strategy='median')),\n",
        "            ('scaler', StandardScaler())\n",
        "        ])\n",
        "\n",
        "        # Categorical pipeline: fill missing with most frequent, then one-hot encode\n",
        "        cat_pipeline = Pipeline([\n",
        "            ('imputer', SimpleImputer(strategy='most_frequent')),\n",
        "            ('onehot', OneHotEncoder(handle_unknown='ignore'))\n",
        "        ])\n",
        "\n",
        "        # Combine numeric and categorical pipelines\n",
        "        self.preprocessor = ColumnTransformer([\n",
        "            ('num', num_pipeline, self.num_cols),\n",
        "            ('cat', cat_pipeline, self.cat_cols)\n",
        "        ])\n",
        "\n",
        "    def evaluate_classifier(self, name, classifier, param_grid):\n",
        "        \"\"\"\n",
        "        Performs hyperparameter tuning on the given classifier using GridSearchCV\n",
        "        with stratified k-fold cross-validation. Evaluates the best estimator\n",
        "        with cross_val_score and stores the results for later analysis.\n",
        "\n",
        "        Args:\n",
        "            name (str): Name to identify the classifier.\n",
        "            classifier (sklearn estimator): Classifier instance to train.\n",
        "            param_grid (dict): Dictionary of hyperparameters for GridSearchCV.\n",
        "        \"\"\"\n",
        "        print(f\"\\nTraining {name} with GridSearchCV...\")\n",
        "        # Build pipeline: preprocessing + classifier\n",
        "        pipe = Pipeline([\n",
        "            ('preproc', self.preprocessor),\n",
        "            ('clf', classifier)\n",
        "        ])\n",
        "        # Perform exhaustive grid search with CV to find best hyperparameters\n",
        "        grid = GridSearchCV(pipe, param_grid, cv=self.cv, scoring='accuracy', n_jobs=-1, verbose=1)\n",
        "        grid.fit(self.X, self.y)\n",
        "\n",
        "        # Extract best model from grid search\n",
        "        best_model = grid.best_estimator_\n",
        "        # Evaluate the best model using cross-validation scores\n",
        "        scores = cross_val_score(best_model, self.X, self.y, cv=self.cv, scoring='accuracy', n_jobs=-1)\n",
        "\n",
        "        # Save results for summary and visualization\n",
        "        self.results[name] = {\n",
        "            'best_params': grid.best_params_,\n",
        "            'cv_mean': scores.mean(),\n",
        "            'cv_std': scores.std(),\n",
        "            # Store classifier instance (needed for boxplot evaluation)\n",
        "            'clf_instance': grid.best_estimator_.named_steps['clf']\n",
        "        }\n",
        "\n",
        "        # Print best hyperparameters and cross-validation accuracy results\n",
        "        print(f\"Best params for {name}: {grid.best_params_}\")\n",
        "        print(f\"Mean Accuracy: {scores.mean():.4f}\")\n",
        "        print(f\"Std Deviation: {scores.std():.4f}\")\n",
        "\n",
        "    def plot_boxplot_results(self):\n",
        "        \"\"\"\n",
        "        Aggregates accuracy scores from cross-validation for all evaluated classifiers,\n",
        "        then creates and displays a boxplot comparing their accuracy distributions.\n",
        "        Annotates the plot with mean accuracy values for clarity.\n",
        "        Saves the plot as 'fig_boxplot.pdf'.\n",
        "        \"\"\"\n",
        "        sns.set_theme(style=\"whitegrid\")\n",
        "        plt.figure(figsize=(9, 6))\n",
        "\n",
        "        all_scores = []\n",
        "\n",
        "        # Collect cross-validation scores for each classifier\n",
        "        for name, result in self.results.items():\n",
        "            scores = cross_val_score(\n",
        "                Pipeline([\n",
        "                    ('preproc', self.preprocessor),\n",
        "                    ('clf', result['clf_instance'])\n",
        "                ]),\n",
        "                self.X, self.y, cv=self.cv, scoring='accuracy', n_jobs=-1\n",
        "            )\n",
        "            # Append each fold's accuracy with classifier label\n",
        "            for score in scores:\n",
        "                all_scores.append({'Classifier': name, 'Accuracy': score})\n",
        "\n",
        "        df_scores = pd.DataFrame(all_scores)\n",
        "\n",
        "        # Create boxplot grouped by classifier showing accuracy distribution\n",
        "        ax = sns.boxplot(\n",
        "            data=df_scores,\n",
        "            x='Classifier',\n",
        "            y='Accuracy',\n",
        "            hue='Classifier',\n",
        "            palette='Set2',\n",
        "            width=0.5,\n",
        "            fliersize=3\n",
        "        )\n",
        "\n",
        "        # Annotate plot with mean accuracy values above boxes\n",
        "        for name in self.results:\n",
        "            mean = self.results[name]['cv_mean']\n",
        "            xpos = list(self.results.keys()).index(name)\n",
        "            ax.text(xpos, mean + 0.001, f\"μ = {mean:.4f}\", ha='center', fontsize=11, weight='bold', color='black')\n",
        "\n",
        "        plt.title(\"Accuracy Distribution per Classifier (10-Fold CV)\", fontsize=14, weight='bold')\n",
        "        plt.ylabel(\"Accuracy\")\n",
        "        plt.xlabel(\"\")\n",
        "        plt.ylim(0.75, 0.82)\n",
        "        sns.despine()\n",
        "        plt.tight_layout()\n",
        "        plt.savefig(\"fig_boxplot.pdf\")\n",
        "        plt.show()"
      ],
      "metadata": {
        "id": "R2ZFkukvAPLO"
      },
      "execution_count": null,
      "outputs": []
    },
    {
      "cell_type": "markdown",
      "source": [
        "# Resultados"
      ],
      "metadata": {
        "id": "AcQn9G0UAfcm"
      }
    },
    {
      "cell_type": "code",
      "source": [
        "if __name__ == '__main__':\n",
        "    \"\"\"\n",
        "    Main execution block:\n",
        "    - Instantiates TitanicClassifierEvaluator with the dataset path.\n",
        "    - Loads data and prepares preprocessing pipelines.\n",
        "    - Evaluates Random Forest and SVM classifiers with hyperparameter tuning.\n",
        "    - Plots boxplot comparison of cross-validation accuracies.\n",
        "    - Prints total execution time.\n",
        "    \"\"\"\n",
        "    start_time = time.time()\n",
        "\n",
        "    path = 'PCC142---Data-Mining/spaceship_titanic/data.zip'\n",
        "    evaluator = TitanicClassifierEvaluator(zip_path=path)\n",
        "\n",
        "    evaluator.load_data()\n",
        "    evaluator.prepare_pipeline()\n",
        "\n",
        "    evaluator.evaluate_classifier(\n",
        "        'Random Forest',\n",
        "        RandomForestClassifier(random_state=42),\n",
        "        {\n",
        "            'clf__n_estimators': [50, 100],\n",
        "            'clf__max_depth': [None, 10, 20],\n",
        "            'clf__min_samples_split': [2, 5]\n",
        "        }\n",
        "    )\n",
        "\n",
        "    evaluator.evaluate_classifier(\n",
        "        'SVM',\n",
        "        SVC(random_state=42),\n",
        "        {\n",
        "            'clf__C': [0.1, 1, 10],\n",
        "            'clf__kernel': ['rbf', 'linear'],\n",
        "            'clf__gamma': ['scale', 'auto']\n",
        "        }\n",
        "    )\n",
        "\n",
        "    evaluator.plot_boxplot_results()\n",
        "\n",
        "    end_time = time.time()\n",
        "    total_time = end_time - start_time\n",
        "    print(f\"\\nTotal execution time: {total_time:.2f} seconds\")"
      ],
      "metadata": {
        "colab": {
          "base_uri": "https://localhost:8080/",
          "height": 844
        },
        "id": "cThv_pE9Ahaf",
        "outputId": "1ebb45a9-1b54-47e3-fac5-4140c064d220"
      },
      "execution_count": null,
      "outputs": [
        {
          "output_type": "stream",
          "name": "stdout",
          "text": [
            "\n",
            "Training Random Forest with GridSearchCV...\n",
            "Fitting 10 folds for each of 12 candidates, totalling 120 fits\n",
            "Best params for Random Forest: {'clf__max_depth': 10, 'clf__min_samples_split': 2, 'clf__n_estimators': 100}\n",
            "Mean Accuracy: 0.7976\n",
            "Std Deviation: 0.0142\n",
            "\n",
            "Training SVM with GridSearchCV...\n",
            "Fitting 10 folds for each of 12 candidates, totalling 120 fits\n",
            "Best params for SVM: {'clf__C': 10, 'clf__gamma': 'auto', 'clf__kernel': 'rbf'}\n",
            "Mean Accuracy: 0.7894\n",
            "Std Deviation: 0.0157\n"
          ]
        },
        {
          "output_type": "display_data",
          "data": {
            "text/plain": [
              "<Figure size 900x600 with 1 Axes>"
            ],
            "image/png": "[encoded data removed]"
          },
          "metadata": {}
        },
        {
          "output_type": "stream",
          "name": "stdout",
          "text": [
            "\n",
            "Total execution time: 358.88 seconds\n"
          ]
        }
      ]
    },
    {
      "cell_type": "markdown",
      "source": [
        "### Random Forest\n",
        "\n",
        "* **Best params:** `max_depth=10`, `min_samples_split=2`, `n_estimators=100`\n",
        "  Isso indica uma árvore relativamente rasa (max\\_depth=10), o que ajuda a evitar overfitting, e uma quantidade razoável de estimadores (100 árvores).\n",
        "* **Mean Accuracy:** \\~79.8%\n",
        "* **Std Deviation:** \\~1.4%\n",
        "  A precisão média próxima de 80% é boa, e o desvio padrão pequeno indica que a validação cruzada foi estável.\n",
        "\n",
        "### SVM\n",
        "\n",
        "* **Best params:** `C=10`, `gamma='auto'`, `kernel='rbf'`\n",
        "  Um C maior indica que o modelo está tentando ajustar os dados mais rigorosamente (menor regularização), com kernel RBF para capturar relações não lineares.\n",
        "* **Mean Accuracy:** \\~78.9%\n",
        "* **Std Deviation:** \\~1.6%\n",
        "  Performance um pouco menor que a RF, mas próxima. Desvio padrão similar.\n",
        "\n",
        "---\n",
        "\n",
        "### Interpretação geral\n",
        "\n",
        "* Ambos os modelos tiveram uma performance próxima, com Random Forest ligeiramente melhor.\n",
        "* Desvios padrão baixos indicam que o modelo é consistente entre as folds.\n"
      ],
      "metadata": {
        "id": "4rNSr_bBCPcs"
      }
    }
  ]
}